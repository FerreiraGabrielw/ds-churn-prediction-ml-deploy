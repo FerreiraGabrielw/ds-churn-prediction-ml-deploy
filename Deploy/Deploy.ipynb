{
 "cells": [
  {
   "cell_type": "markdown",
   "id": "bc75ecd7-4a66-43bc-890b-c2bea813dcdc",
   "metadata": {},
   "source": [
    "## Deploy"
   ]
  },
  {
   "cell_type": "code",
   "execution_count": 1,
   "id": "4c305e77",
   "metadata": {},
   "outputs": [],
   "source": [
    "import pandas as pd\n",
    "from sklearn.preprocessing import StandardScaler\n",
    "from lightgbm import LGBMClassifier\n",
    "import joblib"
   ]
  },
  {
   "cell_type": "code",
   "execution_count": 2,
   "id": "66959ccf-dc8a-4a7c-9755-9ae843b82e14",
   "metadata": {},
   "outputs": [
    {
     "name": "stdout",
     "output_type": "stream",
     "text": [
      "[LightGBM] [Warning] Found whitespace in feature_names, replace with underlines\n",
      "[LightGBM] [Info] Number of positive: 1869, number of negative: 5174\n",
      "[LightGBM] [Info] Auto-choosing row-wise multi-threading, the overhead of testing was 0.001299 seconds.\n",
      "You can set `force_row_wise=true` to remove the overhead.\n",
      "And if memory is not enough, you can set `force_col_wise=true`.\n",
      "[LightGBM] [Info] Total Bins 369\n",
      "[LightGBM] [Info] Number of data points in the train set: 7043, number of used features: 22\n",
      "[LightGBM] [Info] [binary:BoostFromScore]: pavg=0.265370 -> initscore=-1.018243\n",
      "[LightGBM] [Info] Start training from score -1.018243\n",
      "LightGBM model trained with optimized hyperparameters.\n",
      "LightGBM model saved as 'lgbm_churn_model.pkl'\n",
      "StandardScaler saved as 'scaler.pkl'\n",
      "Model column list saved as 'model_columns.pkl'\n",
      "List of numerical features saved as 'numerical_features.pkl'\n",
      "List of Label Encoding features saved as 'label_encode_features.pkl'\n",
      "List of One-Hot Encoding features saved as 'one_hot_encode_features.pkl'\n",
      "List of categorical features for UI saved as 'categorical_features_for_ui.pkl'\n",
      "Unique values of categorical features for UI saved as 'categorical_unique_values.pkl'\n",
      "Binary mapping saved as 'mapeamento_binario.pkl'\n",
      "All components have been successfully saved!\n"
     ]
    }
   ],
   "source": [
    "#Load the original dataset\n",
    "df = pd.read_csv('dataset-churn.csv')\n",
    "\n",
    "#Initial Preprocessing\n",
    "df['TotalCharges'] = pd.to_numeric(df['TotalCharges'], errors='coerce')\n",
    "df['TotalCharges'] = df['TotalCharges'].fillna(0)\n",
    "\n",
    "# Replace values\n",
    "values_to_replace = [\"No internet service\", \"No phone service\"]\n",
    "df = df.replace(values_to_replace, \"No\")\n",
    "\n",
    "# Drop customerID\n",
    "df = df.drop('customerID', axis=1)\n",
    "\n",
    "#Define the columns\n",
    "# Numerical columns for scaling\n",
    "final_numeric_features = ['tenure', 'MonthlyCharges']\n",
    "# Columns for Label Encoding (mapped to 0/1)\n",
    "label_encode_features = [\n",
    "    'gender', 'Partner', 'Dependents', 'PhoneService', 'MultipleLines',\n",
    "    'OnlineSecurity', 'OnlineBackup', 'DeviceProtection', 'TechSupport',\n",
    "    'StreamingTV', 'StreamingMovies', 'PaperlessBilling'\n",
    "] # Churn is the target, SeniorCitizen is treated separately\n",
    "# Columns for One-Hot Encoding\n",
    "one_hot_encode_features = ['InternetService', 'Contract', 'PaymentMethod']\n",
    "\n",
    "#Mapping for Label Encoding\n",
    "mapeamento_binario = {'Yes': 1, 'No': 0, 'Male': 1, 'Female': 0}\n",
    "\n",
    "#Get unique values\n",
    "categorical_unique_values = {}\n",
    "# For Label Encoding featuresy)\n",
    "for col in label_encode_features:\n",
    "    if col == 'gender':\n",
    "        categorical_unique_values[col] = ['Male', 'Female']\n",
    "    else:\n",
    "        categorical_unique_values[col] = ['No', 'Yes']\n",
    "\n",
    "# For SeniorCitizen (treated as 0/1, but in UI we want 'Yes'/'No')\n",
    "categorical_unique_values['SeniorCitizen'] = ['No', 'Yes']\n",
    "\n",
    "# For One-Hot Encoding features\n",
    "for col in one_hot_encode_features:\n",
    "    categorical_unique_values[col] = df[col].unique().tolist()\n",
    "\n",
    "#Prepare a DataFrame for StandardScaler and to capture 'model_columns'\n",
    "X_simulated_for_processing = df.copy()\n",
    "\n",
    "# Remove Churn for X\n",
    "X_simulated_for_processing = X_simulated_for_processing.drop('Churn', axis=1)\n",
    "\n",
    "# Apply Label Encoding\n",
    "for col in label_encode_features:\n",
    "    X_simulated_for_processing[col] = X_simulated_for_processing[col].map(mapeamento_binario)\n",
    "\n",
    "# Apply One-Hot Encoding\n",
    "X_simulated_for_processing = pd.get_dummies(X_simulated_for_processing, columns=one_hot_encode_features, drop_first=True, dtype=int)\n",
    "\n",
    "# Drop TotalCharges\n",
    "X_simulated_for_processing = X_simulated_for_processing.drop('TotalCharges', axis=1)\n",
    "\n",
    "#Scale Numerical Features and Save Scaler\n",
    "scaler = StandardScaler()\n",
    "# Use final_numeric_features since TotalCharges was already dropped\n",
    "X_simulated_for_processing[final_numeric_features] = scaler.fit_transform(X_simulated_for_processing[final_numeric_features])\n",
    "\n",
    "#Train the final model with the best hyperparameters\n",
    "best_lgbm_model = LGBMClassifier(\n",
    "    objective='binary',\n",
    "    metric='binary_logloss',\n",
    "    random_state=42,\n",
    "    scale_pos_weight=2.7686,\n",
    "    learning_rate=0.05,\n",
    "    n_estimators=100,\n",
    "    num_leaves=20,\n",
    "    reg_alpha=0.5,\n",
    "    reg_lambda=0.5\n",
    ")\n",
    "\n",
    "# Separate X and y from the processed dataset\n",
    "y = df['Churn'].map(mapeamento_binario)\n",
    "X = X_simulated_for_processing.copy()\n",
    "\n",
    "# Train the model\n",
    "best_lgbm_model.fit(X, y)\n",
    "print(\"LightGBM model trained with optimized hyperparameters.\")\n",
    "\n",
    "#Save all required components\n",
    "joblib.dump(best_lgbm_model, 'lgbm_churn_model.pkl')\n",
    "print(\"LightGBM model saved as 'lgbm_churn_model.pkl'\")\n",
    "joblib.dump(scaler, 'scaler.pkl')\n",
    "print(\"StandardScaler saved as 'scaler.pkl'\")\n",
    "model_columns = X_simulated_for_processing.columns.tolist()\n",
    "joblib.dump(model_columns, 'model_columns.pkl')\n",
    "print(\"Model column list saved as 'model_columns.pkl'\")\n",
    "joblib.dump(final_numeric_features, 'numerical_features.pkl')\n",
    "print(\"List of numerical features saved as 'numerical_features.pkl'\")\n",
    "joblib.dump(label_encode_features, 'label_encode_features.pkl')\n",
    "print(\"List of Label Encoding features saved as 'label_encode_features.pkl'\")\n",
    "joblib.dump(one_hot_encode_features, 'one_hot_encode_features.pkl')\n",
    "print(\"List of One-Hot Encoding features saved as 'one_hot_encode_features.pkl'\")\n",
    "all_categorical_features_for_ui = label_encode_features + ['SeniorCitizen'] + one_hot_encode_features\n",
    "joblib.dump(all_categorical_features_for_ui, 'categorical_features_for_ui.pkl')\n",
    "print(\"List of categorical features for UI saved as 'categorical_features_for_ui.pkl'\")\n",
    "joblib.dump(categorical_unique_values, 'categorical_unique_values.pkl')\n",
    "print(\"Unique values of categorical features for UI saved as 'categorical_unique_values.pkl'\")\n",
    "joblib.dump(mapeamento_binario, 'mapeamento_binario.pkl')\n",
    "print(\"Binary mapping saved as 'mapeamento_binario.pkl'\")\n",
    "print(\"All components have been successfully saved!\")\n"
   ]
  },
  {
   "cell_type": "code",
   "execution_count": 1,
   "id": "e3d2fb9a",
   "metadata": {},
   "outputs": [
    {
     "name": "stdout",
     "output_type": "stream",
     "text": [
      "Note: you may need to restart the kernel to use updated packages.\n"
     ]
    }
   ],
   "source": [
    "pip freeze > requirements.txt"
   ]
  }
 ],
 "metadata": {
  "kernelspec": {
   "display_name": "base",
   "language": "python",
   "name": "python3"
  },
  "language_info": {
   "codemirror_mode": {
    "name": "ipython",
    "version": 3
   },
   "file_extension": ".py",
   "mimetype": "text/x-python",
   "name": "python",
   "nbconvert_exporter": "python",
   "pygments_lexer": "ipython3",
   "version": "3.11.13"
  }
 },
 "nbformat": 4,
 "nbformat_minor": 5
}
